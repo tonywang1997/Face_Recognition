{
 "cells": [
  {
   "cell_type": "code",
   "execution_count": 58,
   "id": "04394a56",
   "metadata": {},
   "outputs": [],
   "source": [
    "import pandas as pd\n",
    "from sklearn.model_selection import train_test_split\n",
    "\n",
    "import torch\n",
    "import torch.nn as nn\n",
    "import torch.nn.functional as F\n",
    "import torch.optim as optim\n",
    "\n",
    "from torch.utils.data import Dataset, DataLoader\n",
    "from PIL import Image\n",
    "import torchvision.transforms as transforms\n",
    "\n",
    "import os\n",
    "import shutil\n",
    "from shutil import unpack_archive\n",
    "\n",
    "\n",
    "import torch\n",
    "import torchvision\n",
    "from torchvision import datasets, transforms, models\n",
    "from torch.utils.data import DataLoader\n",
    "import torch.nn as nn\n",
    "import torch.optim as optim\n",
    "\n",
    "# dataset_path = \"../input/lfw-dataset/lfw-deepfunneled/lfw-deepfunneled/\""
   ]
  },
  {
   "cell_type": "markdown",
   "id": "54568372",
   "metadata": {},
   "source": [
    "## Data Read-in and Cleaning\n",
    "\n",
    "This section focuses on the initial steps necessary for preparing the Labeled Faces in the Wild (LFW) dataset for the facial recognition project. The LFW dataset is a collection of labeled images of public figures, intended for developing and evaluating facial recognition systems. The preparation involves several key steps:\n",
    "\n",
    "1. **Reading Dataset Files**: Several CSV files containing metadata about the images are loaded.\n",
    "   - `lfw_allnames.csv`: Contains the names of all individuals in the dataset along with the number of images available for each.\n",
    "   - `matchpairsDevTest.csv` & `matchpairsDevTrain.csv`: Contain pairs of names for which matching images are present, split into development test and train subsets.\n",
    "   - `mismatchpairsDevTest.csv` & `mismatchpairsDevTrain.csv`: Similar to the match pairs, but for mismatching images.\n",
    "   - `pairs.csv`: Lists pairs of images, indicating whether they match or mismatch.\n",
    "   - `people.csv`, `peopleDevTest.csv`, and `peopleDevTrain.csv`: Contain lists of people included in the dataset and their corresponding splits.\n",
    "\n",
    "2. **Data Cleaning**: The data is cleaned to ensure consistency and usability. This includes:\n",
    "   - Renaming columns in `pairs.csv` for clarity, changing 'name' to 'name1' and 'Unnamed: 3' to 'name2'.\n",
    "   - Splitting the `pairs.csv` data into matched and mismatched pairs based on the presence of a second name.\n",
    "   - Removing any null values from `people.csv` to ensure that only entries with valid names are included.\n"
   ]
  },
  {
   "cell_type": "code",
   "execution_count": 3,
   "id": "f662b996",
   "metadata": {},
   "outputs": [],
   "source": [
    "# Data read-in and cleaning\n",
    "\n",
    "lfw_allnames = pd.read_csv(\"./input/lfw-dataset/lfw_allnames.csv\")\n",
    "matchpairsDevTest = pd.read_csv(\"./input/lfw-dataset/matchpairsDevTest.csv\")\n",
    "matchpairsDevTrain = pd.read_csv(\"./input/lfw-dataset/matchpairsDevTrain.csv\")\n",
    "mismatchpairsDevTest = pd.read_csv(\"./input/lfw-dataset/mismatchpairsDevTest.csv\")\n",
    "mismatchpairsDevTrain = pd.read_csv(\"./input/lfw-dataset/mismatchpairsDevTrain.csv\")\n",
    "pairs = pd.read_csv(\"./input/lfw-dataset/pairs.csv\")\n",
    "# tidy pairs data: \n",
    "pairs = pairs.rename(columns ={'name': 'name1', 'Unnamed: 3': 'name2'})\n",
    "matched_pairs = pairs[pairs[\"name2\"].isnull()].drop(\"name2\",axis=1)\n",
    "mismatched_pairs = pairs[pairs[\"name2\"].notnull()]\n",
    "people = pd.read_csv(\"./input/lfw-dataset/people.csv\")\n",
    "# remove null values\n",
    "people = people[people.name.notnull()]\n",
    "peopleDevTest = pd.read_csv(\"./input/lfw-dataset/peopleDevTest.csv\")\n",
    "peopleDevTrain = pd.read_csv(\"./input/lfw-dataset/peopleDevTrain.csv\")"
   ]
  },
  {
   "cell_type": "code",
   "execution_count": 4,
   "id": "33db85d4",
   "metadata": {},
   "outputs": [
    {
     "name": "stdout",
     "output_type": "stream",
     "text": [
      "Summary:\n",
      "There are 5749 unique celebrities in the entire dataset, of whom 1680 are represented by multiple images. The entire number of images available is 13233. The most represented celebrity is George_W_Bush, with 530 unique images in the dataset.\n"
     ]
    }
   ],
   "source": [
    "print(\"Summary:\")\n",
    "print(\"There are \" + \n",
    "      str(lfw_allnames.shape[0]) + \n",
    "      \" unique celebrities in the entire dataset, of whom \" + \n",
    "      str(sum(lfw_allnames.images > 1)) + \n",
    "      \" are represented by multiple images. The entire number of images available is \" + \n",
    "      str(sum(lfw_allnames.images)) + \n",
    "      \". The most represented celebrity is \" + \n",
    "      str(lfw_allnames.iloc[lfw_allnames['images'].idxmax()][0]) + \n",
    "      \", with \" + \n",
    "      str(max(lfw_allnames.images)) + \n",
    "      \" unique images in the dataset.\")"
   ]
  },
  {
   "cell_type": "markdown",
   "id": "a4a42af2",
   "metadata": {},
   "source": [
    "## Data Structuring and Splitting\n",
    "\n",
    "After the initial data read-in and cleaning, the next step is to structure the data appropriately for the machine learning model and to split it into training and testing sets.\n",
    "\n",
    "### Structuring Image Paths\n",
    "\n",
    "To make the dataset suitable for a machine learning workflow, the images need to be easily accessible by the model. And here are the steps taken:\n",
    "\n",
    "- **Image Path Creation**: A new dataframe is generated where each row corresponds to a single image. This is achieved by repeating entries in the `lfw_allnames` dataframe according to the number of images available for each individual. An image path is then constructed for each entry, combining the individual's name and a sequential number, resulting in a structured filename such as `individual_name/individual_name_0001.jpg`.\n",
    "- **Path Formatting**: To ensure consistency, the sequential number is formatted to have four digits, making it easier to sort and manage the files programmatically.\n",
    "- **Column Adjustment**: The `images` column, which indicates the number of images per individual, is dropped from the dataframe as it's no longer needed after the image paths are created.\n",
    "\n",
    "### Splitting the Data\n",
    "\n",
    "With the image paths structured, the dataset is then split into training and test sets. This split is essential for training the model on one subset of the data and evaluating its performance on a separate subset:\n",
    "\n",
    "- **Random Sampling**: The dataset is randomly split, allocating 80% of the data for training and 20% for testing. This random split ensures the model is exposed to a varied range of data during training while reserving a portion for unbiased evaluation.\n",
    "- **Index Resetting**: After splitting, the indices of the training and test dataframes are reset to ensure easy accessibility and to avoid potential issues with non-sequential indices.\n",
    "- **Overlap Check**: To validate the split, a check is performed to ensure that there are both overlapping and unique individuals in the test set compared to the training set. This confirms the model will be evaluated on both familiar and new faces.\n"
   ]
  },
  {
   "cell_type": "code",
   "execution_count": 7,
   "id": "1e827dbf",
   "metadata": {},
   "outputs": [
    {
     "name": "stdout",
     "output_type": "stream",
     "text": [
      "834\n",
      "848\n"
     ]
    },
    {
     "name": "stderr",
     "output_type": "stream",
     "text": [
      "/var/folders/b_/_n3cd1cs2p75wp8rqw_vny2m0000gn/T/ipykernel_80485/3389311693.py:6: FutureWarning: In a future version of pandas all arguments of DataFrame.drop except for the argument 'labels' will be keyword-only.\n",
      "  image_paths = image_paths.drop(\"images\",1)\n",
      "/var/folders/b_/_n3cd1cs2p75wp8rqw_vny2m0000gn/T/ipykernel_80485/3389311693.py:10: FutureWarning: In a future version of pandas all arguments of DataFrame.drop except for the argument 'labels' will be keyword-only.\n",
      "  lfw_train = lfw_train.reset_index().drop(\"index\",1)\n",
      "/var/folders/b_/_n3cd1cs2p75wp8rqw_vny2m0000gn/T/ipykernel_80485/3389311693.py:11: FutureWarning: In a future version of pandas all arguments of DataFrame.drop except for the argument 'labels' will be keyword-only.\n",
      "  lfw_test = lfw_test.reset_index().drop(\"index\",1)\n"
     ]
    }
   ],
   "source": [
    "# shape data frame so there is a row per image, matched to relevant jpg file\n",
    "image_paths = lfw_allnames.loc[lfw_allnames.index.repeat(lfw_allnames['images'])]\n",
    "image_paths['image_path'] = 1 + image_paths.groupby('name').cumcount()\n",
    "image_paths['image_path'] = image_paths.image_path.apply(lambda x: '{0:0>4}'.format(x))\n",
    "image_paths['image_path'] = image_paths.name + \"/\" + image_paths.name + \"_\" + image_paths.image_path + \".jpg\"\n",
    "image_paths = image_paths.drop(\"images\",1)\n",
    "\n",
    "# take a random sample: 80% of the data for the test set\n",
    "lfw_train, lfw_test = train_test_split(image_paths, test_size=0.2)\n",
    "lfw_train = lfw_train.reset_index().drop(\"index\",1)\n",
    "lfw_test = lfw_test.reset_index().drop(\"index\",1)\n",
    "\n",
    "# verify that there is a mix of seen and unseen individuals in the test set\n",
    "print(len(set(lfw_train.name).intersection(set(lfw_test.name))))\n",
    "print(len(set(lfw_test.name) - set(lfw_train.name)))\n",
    "\n",
    "# both comprehensively non-empty - we are ok to procede.\n",
    "# N.B. although we don't use this training/test split in the following model, this is the format of the data we\n",
    "# would use in applying models to the full dataset"
   ]
  },
  {
   "cell_type": "markdown",
   "id": "c359084c",
   "metadata": {},
   "source": [
    "## Data Sampling and Subsetting\n",
    "\n",
    "This part of the process is focused on creating a balanced dataset from the Labeled Faces in the Wild (LFW) dataset, particularly targeting a subset of individuals with a significant presence in the dataset. The aim is to facilitate the development of a facial recognition model by focusing on these key figures.\n",
    "\n",
    "### Visualization of Data Distribution\n",
    "\n",
    "Before diving into the sampling process, it's insightful to visualize the distribution of images across different individuals in the dataset:\n",
    "\n",
    "- A bar chart is generated to display the top 10 individuals with the most images. This step provides a clear picture of which individuals are most represented and helps in deciding whom to include in the subset for model training.\n",
    "\n",
    "### Sampling Strategy\n",
    "\n",
    "The sampling strategy is designed to ensure the model is trained on a balanced set of images across several prominent individuals:\n",
    "\n",
    "1. **Sample Selection**: From the entire dataset, a fixed number (100) of images are randomly selected for each targeted individual. This ensures that the model has an equal amount of data for each person, mitigating any bias towards individuals with more images.\n",
    "   \n",
    "2. **Targeted Individuals**: The individuals selected for this balanced dataset include George W. Bush, Colin Powell, Tony Blair, Donald Rumsfeld, and Gerhard Schroeder. These figures are chosen based on their prevalence in the dataset and the diversity they bring to the training process.\n",
    "\n",
    "3. **Dataset Creation**: For each of the aforementioned individuals, 100 images are randomly sampled from their respective pools of images. These samples are then combined into a single dataframe, creating a balanced dataset ready for further processing.\n",
    "\n",
    "### Splitting the Data\n",
    "\n",
    "With the balanced dataset prepared, the next step involves splitting this data into training, testing, and validation sets:\n",
    "\n",
    "- **Training and Test Split**: The data is initially split into training and test sets, allocating 80% of the images for training and reserving 20% for testing. This split is crucial for evaluating the model's performance on unseen data.\n",
    "  \n",
    "- **Validation Set Creation**: A portion of the training set is further reserved as a validation set. Specifically, 20% of the training data is set aside. This validation set is used during the model training process to fine-tune model parameters and to prevent overfitting.\n"
   ]
  },
  {
   "cell_type": "code",
   "execution_count": 9,
   "id": "03c830af",
   "metadata": {},
   "outputs": [
    {
     "data": {
      "text/plain": [
       "<Axes: >"
      ]
     },
     "execution_count": 9,
     "metadata": {},
     "output_type": "execute_result"
    },
    {
     "data": {
      "image/png": "[encoded data removed]",
      "text/plain": [
       "<Figure size 640x480 with 1 Axes>"
      ]
     },
     "metadata": {},
     "output_type": "display_data"
    }
   ],
   "source": [
    "image_paths['name'].value_counts()[:10].plot(kind = \"bar\")"
   ]
  },
  {
   "cell_type": "code",
   "execution_count": 24,
   "id": "2651ddf9",
   "metadata": {},
   "outputs": [],
   "source": [
    "# not_george = image_paths[image_paths.name!=\"George_W_Bush\"].sample(530)\n",
    "# not_george.name = \"not_George\"\n",
    "# GWB_data = pd.concat([image_paths[image_paths.name==\"George_W_Bush\"],\n",
    "#                      not_george])\n",
    "sample_num = 100\n",
    "data = pd.DataFrame(columns=list(image_paths.columns))\n",
    "name_list = ['George_W_Bush', 'Colin_Powell', 'Tony_Blair', 'Donald_Rumsfeld', 'Gerhard_Schroeder']\n",
    "for name in name_list:\n",
    "    data = pd.concat([data, image_paths[image_paths.name==name].sample(sample_num)])\n",
    "data = data.reset_index()"
   ]
  },
  {
   "cell_type": "code",
   "execution_count": 25,
   "id": "c66c52c9",
   "metadata": {},
   "outputs": [],
   "source": [
    "# withhold final test data\n",
    "bush_train, bush_test = train_test_split(data, test_size=0.2)\n",
    "#  It is also useful to reserve a validation set in the training data, for use in the model construction\n",
    "bush_train, bush_val = train_test_split(bush_train,test_size=0.2)"
   ]
  },
  {
   "cell_type": "markdown",
   "id": "1538f270",
   "metadata": {},
   "source": [
    "## Directory Organization\n",
    "\n",
    "To facilitate model training and evaluation, images are sorted into designated directories for training, validation, and testing phases. This setup streamlines the workflow, especially for image loading and processing.\n"
   ]
  },
  {
   "cell_type": "code",
   "execution_count": 54,
   "id": "de429493",
   "metadata": {},
   "outputs": [],
   "source": [
    "# define a custom function to move images to a new train/test/val directory\n",
    "curr_dir = os.getcwd()\n",
    "def directory_mover(data,dir_name):\n",
    "    co = 0\n",
    "    for image in data.image_path:\n",
    "        # create top directory\n",
    "        if not os.path.exists(os.path.join(curr_dir,'kaggle/working/',dir_name[:-1])):\n",
    "            shutil.os.mkdir(os.path.join(curr_dir,'/kaggle/working/',dir_name[:-1]))\n",
    "        \n",
    "        data_type = data[data['image_path'] == image]['name']\n",
    "        data_type = str(list(data_type)[0])\n",
    "        if not os.path.exists(os.path.join(curr_dir,'kaggle/working/',dir_name,data_type)):\n",
    "            shutil.os.mkdir(os.path.join('./kaggle/working/',dir_name,data_type))\n",
    "        path_from = os.path.join('./input/lfw-dataset/lfw-deepfunneled/lfw-deepfunneled/',image)\n",
    "        path_to = os.path.join(os.path.join(curr_dir,'kaggle/working/',dir_name,data_type))\n",
    "        # print(path_to)\n",
    "        shutil.copy(path_from, path_to)\n",
    "        # print('Moved {} to {}'.format(image,path_to))\n",
    "        co += 1\n",
    "        \n",
    "    print('Moved {} images to {} folder.'.format(co,dir_name))"
   ]
  },
  {
   "cell_type": "code",
   "execution_count": 55,
   "id": "85394576",
   "metadata": {},
   "outputs": [
    {
     "data": {
      "text/plain": [
       "'Bush_train'"
      ]
     },
     "execution_count": 55,
     "metadata": {},
     "output_type": "execute_result"
    }
   ],
   "source": [
    "dir_name=\"Bush_train/\"\n",
    "dir_name[:-1]\n",
    "# os.path.join(curr_dir,'kaggle/working/',dir_name)\n",
    "# os.path.exists(os.path.join(curr_dir,'kaggle/working/',dir_name))"
   ]
  },
  {
   "cell_type": "code",
   "execution_count": 56,
   "id": "a5511f4c",
   "metadata": {},
   "outputs": [
    {
     "name": "stdout",
     "output_type": "stream",
     "text": [
      "Moved 320 images to Bush_train/ folder.\n",
      "Moved 80 images to Bush_val/ folder.\n",
      "Moved 100 images to Bush_test/ folder.\n"
     ]
    }
   ],
   "source": [
    "# move images:\n",
    "directory_mover(bush_train,\"Bush_train/\")\n",
    "directory_mover(bush_val,\"Bush_val/\")\n",
    "directory_mover(bush_test,\"Bush_test/\")"
   ]
  },
  {
   "cell_type": "code",
   "execution_count": 59,
   "id": "fd67fa9a",
   "metadata": {},
   "outputs": [],
   "source": [
    "# Define your transformations\n",
    "transform = transforms.Compose([\n",
    "    transforms.Resize((256, 256)),  # Resize images to a fixed size\n",
    "    transforms.ToTensor(),  # Convert images to PyTorch tensors\n",
    "    transforms.Normalize(mean=[0.485, 0.456, 0.406], std=[0.229, 0.224, 0.225]),  # Normalize images\n",
    "])\n",
    "\n",
    "# Load the dataset from folders\n",
    "train_dataset = datasets.ImageFolder(root='./kaggle/working/Bush_train', transform=transform)\n",
    "test_dataset = datasets.ImageFolder(root='./kaggle/working/Bush_test', transform=transform)\n",
    "val_dataset = datasets.ImageFolder(root='./kaggle/working/Bush_val', transform=transform)\n",
    "\n",
    "# Creating data loaders\n",
    "train_loader = DataLoader(train_dataset, batch_size=32, shuffle=True, num_workers=2)\n",
    "test_loader = DataLoader(test_dataset, batch_size=32, shuffle=True, num_workers=2)\n",
    "val_loader = DataLoader(val_dataset, batch_size=32, shuffle=True, num_workers=2)"
   ]
  },
  {
   "cell_type": "markdown",
   "id": "e196a2fb",
   "metadata": {},
   "source": [
    "## Model Architecture: SimpleCNN\n",
    "\n",
    "The facial recognition task utilizes a convolutional neural network (CNN) designed to classify images into one of five categories. The `SimpleCNN` class outlines the structure of this neural network, emphasizing simplicity while incorporating essential features for effective image classification.\n"
   ]
  },
  {
   "cell_type": "code",
   "execution_count": 70,
   "id": "e7867359",
   "metadata": {},
   "outputs": [
    {
     "name": "stdout",
     "output_type": "stream",
     "text": [
      "Using device: mps\n"
     ]
    }
   ],
   "source": [
    "class SimpleCNN(nn.Module):\n",
    "    def __init__(self, num_classes=5, drop=0.5):  # You have 5 classes\n",
    "        super(SimpleCNN, self).__init__()\n",
    "        self.conv1 = nn.Conv2d(3, 32, kernel_size=3, stride=1, padding=1)\n",
    "        self.pool = nn.MaxPool2d(kernel_size=2, stride=2)\n",
    "        self.conv2 = nn.Conv2d(32, 64, kernel_size=3, stride=1, padding=1)\n",
    "        self.fc1 = nn.Linear(64 * 64 * 64, 512)\n",
    "        self.fc2 = nn.Linear(512, num_classes)\n",
    "        self.dropout = nn.Dropout(drop)\n",
    "    \n",
    "    def forward(self, x):\n",
    "        x = self.pool(F.relu(self.conv1(x)))\n",
    "        x = self.pool(F.relu(self.conv2(x)))\n",
    "        x = x.view(-1, 64 * 64 * 64)  # Flatten the output\n",
    "        x = F.relu(self.fc1(x))\n",
    "        x = self.dropout(x)\n",
    "        x = self.fc2(x)\n",
    "        return x\n",
    "\n",
    "\n",
    "device = torch.device(\"mps\" if torch.backends.mps.is_available() else \"cpu\")\n",
    "print(f\"Using device: {device}\")\n",
    "\n",
    "# model = SimpleCNN().to(device)"
   ]
  },
  {
   "cell_type": "markdown",
   "id": "d7eb02a4",
   "metadata": {},
   "source": [
    "## Baseline Model Evaluation\n",
    "\n",
    "The evaluation of the baseline model involves training, validating, and testing the `SimpleCNN` model without dropout (dropout rate set to 0). This baseline setting allows us to assess the model's performance under minimal regularization.\n",
    "\n",
    "### Model Configuration\n",
    "\n",
    "- **Model Initialization**: A `SimpleCNN` instance with no dropout (`drop=0`) is created and transferred to the available device (GPU/MPS or CPU).\n",
    "- **Loss Function**: CrossEntropyLoss is used, suitable for multi-class classification tasks.\n",
    "- **Optimizer**: Adam optimizer with a learning rate of 0.001 is chosen for adjusting model weights.\n"
   ]
  },
  {
   "cell_type": "code",
   "execution_count": 82,
   "id": "16ee2fe8",
   "metadata": {},
   "outputs": [
    {
     "name": "stdout",
     "output_type": "stream",
     "text": [
      "Epoch 1/10, Train Loss: 18.4617, Train Accuracy: 22.81%\n",
      "Epoch 1/10, Val Loss: 1.8270, Val Accuracy: 20.00%\n",
      "Epoch 2/10, Train Loss: 1.5686, Train Accuracy: 31.88%\n",
      "Epoch 2/10, Val Loss: 1.6195, Val Accuracy: 18.75%\n",
      "Epoch 3/10, Train Loss: 1.5569, Train Accuracy: 34.38%\n",
      "Epoch 3/10, Val Loss: 1.5774, Val Accuracy: 33.75%\n",
      "Epoch 4/10, Train Loss: 1.3968, Train Accuracy: 44.69%\n",
      "Epoch 4/10, Val Loss: 1.5476, Val Accuracy: 30.00%\n",
      "Epoch 5/10, Train Loss: 1.1412, Train Accuracy: 55.62%\n",
      "Epoch 5/10, Val Loss: 1.4884, Val Accuracy: 37.50%\n",
      "Epoch 6/10, Train Loss: 0.7999, Train Accuracy: 73.12%\n",
      "Epoch 6/10, Val Loss: 1.6197, Val Accuracy: 38.75%\n",
      "Epoch 7/10, Train Loss: 0.5188, Train Accuracy: 84.06%\n",
      "Epoch 7/10, Val Loss: 1.3396, Val Accuracy: 58.75%\n",
      "Epoch 8/10, Train Loss: 0.2922, Train Accuracy: 94.69%\n",
      "Epoch 8/10, Val Loss: 1.7939, Val Accuracy: 51.25%\n",
      "Epoch 9/10, Train Loss: 0.1469, Train Accuracy: 97.19%\n",
      "Epoch 9/10, Val Loss: 1.7055, Val Accuracy: 50.00%\n",
      "Epoch 10/10, Train Loss: 0.0705, Train Accuracy: 98.75%\n",
      "Epoch 10/10, Val Loss: 1.7358, Val Accuracy: 51.25%\n"
     ]
    }
   ],
   "source": [
    "# Baseline\n",
    "\n",
    "model_base = SimpleCNN(drop=0).to(device)\n",
    "\n",
    "criterion = nn.CrossEntropyLoss()\n",
    "optimizer = optim.Adam(model_base.parameters(), lr=0.001)\n",
    "\n",
    "num_epochs = 10\n",
    "\n",
    "for epoch in range(num_epochs):\n",
    "    # Training phase\n",
    "    model_base.train()  # Set the model to training mode\n",
    "    train_loss = 0.0\n",
    "    train_correct = 0\n",
    "    train_total = 0\n",
    "    \n",
    "    for images, labels in train_loader:\n",
    "        images, labels = images.to(device), labels.to(device)\n",
    "        \n",
    "        optimizer.zero_grad()\n",
    "        outputs = model_base(images)\n",
    "        loss = criterion(outputs, labels)\n",
    "        loss.backward()\n",
    "        optimizer.step()\n",
    "        \n",
    "        train_loss += loss.item()\n",
    "        _, predicted = torch.max(outputs, 1)\n",
    "        train_total += labels.size(0)\n",
    "        train_correct += (predicted == labels).sum().item()\n",
    "\n",
    "    train_accuracy = 100 * train_correct / train_total\n",
    "    print(f'Epoch {epoch+1}/{num_epochs}, Train Loss: {train_loss/len(train_loader):.4f}, Train Accuracy: {train_accuracy:.2f}%')\n",
    "    \n",
    "    # Validation phase\n",
    "    model_base.eval()  # Set the model to evaluation mode\n",
    "    val_loss = 0.0\n",
    "    val_correct = 0\n",
    "    val_total = 0\n",
    "    \n",
    "    with torch.no_grad():  # No gradients needed for validation\n",
    "        for images, labels in val_loader:\n",
    "            images, labels = images.to(device), labels.to(device)\n",
    "            \n",
    "            outputs = model_base(images)\n",
    "            loss = criterion(outputs, labels)\n",
    "            \n",
    "            val_loss += loss.item()\n",
    "            _, predicted = torch.max(outputs, 1)\n",
    "            val_total += labels.size(0)\n",
    "            val_correct += (predicted == labels).sum().item()\n",
    "\n",
    "    val_accuracy = 100 * val_correct / val_total\n",
    "    print(f'Epoch {epoch+1}/{num_epochs}, Val Loss: {val_loss/len(val_loader):.4f}, Val Accuracy: {val_accuracy:.2f}%')\n"
   ]
  },
  {
   "cell_type": "code",
   "execution_count": 84,
   "id": "77ebd4c7",
   "metadata": {},
   "outputs": [
    {
     "name": "stdout",
     "output_type": "stream",
     "text": [
      "Test Loss: 1.9368, Test Accuracy: 58.00%\n"
     ]
    }
   ],
   "source": [
    "model_base.eval()  # Set the model to evaluation mode\n",
    "test_loss = 0.0\n",
    "test_correct = 0\n",
    "test_total = 0\n",
    "\n",
    "with torch.no_grad():  # No gradients needed for validation\n",
    "    for images, labels in test_loader:\n",
    "        images, labels = images.to(device), labels.to(device)\n",
    "\n",
    "        outputs = model_base(images)\n",
    "        loss = criterion(outputs, labels)\n",
    "\n",
    "        test_loss += loss.item()\n",
    "        _, predicted = torch.max(outputs, 1)\n",
    "        test_total += labels.size(0)\n",
    "        test_correct += (predicted == labels).sum().item()\n",
    "\n",
    "test_accuracy = 100 * test_correct / test_total\n",
    "print(f'Test Loss: {test_loss/len(test_loader):.4f}, Test Accuracy: {test_accuracy:.2f}%')"
   ]
  },
  {
   "cell_type": "markdown",
   "id": "d45343f4",
   "metadata": {},
   "source": [
    "## Baseline Model Performance Analysis\n",
    "\n",
    "After training the SimpleCNN model over 10 epochs, the performance metrics for each phase—training and validation—are available, concluding with the test accuracy:\n",
    "\n",
    "### Training and Validation Trends\n",
    "\n",
    "- **Training Accuracy**: Starting at 22.81%, the model's training accuracy shows a significant improvement, reaching 98.75% by the final epoch. This indicates the model is effectively learning from the training data.\n",
    "  \n",
    "- **Validation Accuracy**: Conversely, the validation accuracy begins at 20.00% and sees relatively modest improvements, ending at 51.25%. Unlike the training accuracy, the validation accuracy does not exhibit the same steep upward trajectory.\n",
    "\n",
    "The large gap between training and validation accuracy suggests that the model may be overfitting to the training data, learning patterns specific to that dataset that do not generalize well to unseen data.\n",
    "\n",
    "### Test Results\n",
    "\n",
    "- **Test Accuracy**: When evaluated on the test set, the model achieves an accuracy of 58.00%. While this is an improvement over the initial validation accuracy, it still indicates that nearly half of the test instances were incorrectly classified.\n",
    "  \n",
    "- **Test Loss**: The test loss stands at 1.9368, which provides a numerical representation of the model's error on the test data, complementing the accuracy metric.\n",
    "\n",
    "### Conclusions\n",
    "\n",
    "The baseline model's performance highlights several key points:\n",
    "\n",
    "- There is a noticeable discrepancy between training and validation accuracy, which could be a sign of overfitting. The high training accuracy shows that the model has the capacity to learn, but it may be memorizing the training data rather than learning generalizable features.\n",
    "  \n",
    "- The test accuracy, while higher than the initial validation accuracy, still indicates that the model is not as effective at classifying images it has not seen before.\n"
   ]
  },
  {
   "cell_type": "markdown",
   "id": "149aca69",
   "metadata": {},
   "source": [
    "## Model Training with Dropout Regularization\n",
    "\n",
    "In an effort to address potential overfitting observed in the baseline model, dropout regularization is introduced. A dropout rate of 0.5 is applied to the `SimpleCNN` model, which means during training, approximately half of the neurons in the dropout layer are randomly ignored.\n",
    "\n",
    "### Adjustments to the Model\n",
    "\n",
    "- **Dropout Implementation**: The updated model (`model_dropout`) incorporates a dropout layer with a rate of 0.5. This is expected to encourage the model to learn more robust features by preventing it from relying too heavily on any individual neuron during training.\n",
    "\n",
    "This training routine with dropout is designed to improve the model's generalization ability, aiming for better performance on the validation set and, ultimately, the unseen test data. The inclusion of dropout is a strategic choice to combat overfitting, one of the common challenges in training deep neural networks.\n"
   ]
  },
  {
   "cell_type": "code",
   "execution_count": 64,
   "id": "84478af8",
   "metadata": {},
   "outputs": [
    {
     "name": "stdout",
     "output_type": "stream",
     "text": [
      "Epoch 1/10, Train Loss: 8.5929, Train Accuracy: 23.75%\n",
      "Epoch 1/10, Val Loss: 1.6734, Val Accuracy: 25.00%\n",
      "Epoch 2/10, Train Loss: 1.5344, Train Accuracy: 32.19%\n",
      "Epoch 2/10, Val Loss: 1.6991, Val Accuracy: 21.25%\n",
      "Epoch 3/10, Train Loss: 1.4038, Train Accuracy: 41.88%\n",
      "Epoch 3/10, Val Loss: 1.6201, Val Accuracy: 35.00%\n",
      "Epoch 4/10, Train Loss: 1.2060, Train Accuracy: 57.19%\n",
      "Epoch 4/10, Val Loss: 1.4260, Val Accuracy: 42.50%\n",
      "Epoch 5/10, Train Loss: 0.8270, Train Accuracy: 72.50%\n",
      "Epoch 5/10, Val Loss: 1.2365, Val Accuracy: 52.50%\n",
      "Epoch 6/10, Train Loss: 0.4925, Train Accuracy: 84.06%\n",
      "Epoch 6/10, Val Loss: 1.2040, Val Accuracy: 58.75%\n",
      "Epoch 7/10, Train Loss: 0.3042, Train Accuracy: 90.62%\n",
      "Epoch 7/10, Val Loss: 1.4074, Val Accuracy: 57.50%\n",
      "Epoch 8/10, Train Loss: 0.1623, Train Accuracy: 95.31%\n",
      "Epoch 8/10, Val Loss: 1.2194, Val Accuracy: 66.25%\n",
      "Epoch 9/10, Train Loss: 0.0718, Train Accuracy: 97.81%\n",
      "Epoch 9/10, Val Loss: 1.0203, Val Accuracy: 70.00%\n",
      "Epoch 10/10, Train Loss: 0.0421, Train Accuracy: 99.06%\n",
      "Epoch 10/10, Val Loss: 0.9501, Val Accuracy: 71.25%\n"
     ]
    }
   ],
   "source": [
    "# dropout = 0.5\n",
    "\n",
    "model_dropout = SimpleCNN().to(device)\n",
    "\n",
    "criterion = nn.CrossEntropyLoss()\n",
    "optimizer = optim.Adam(model_dropout.parameters(), lr=0.001)\n",
    "\n",
    "num_epochs = 10\n",
    "\n",
    "for epoch in range(num_epochs):\n",
    "    # Training phase\n",
    "    model_dropout.train()  # Set the model to training mode\n",
    "    train_loss = 0.0\n",
    "    train_correct = 0\n",
    "    train_total = 0\n",
    "    \n",
    "    for images, labels in train_loader:\n",
    "        images, labels = images.to(device), labels.to(device)\n",
    "        \n",
    "        optimizer.zero_grad()\n",
    "        outputs = model_dropout(images)\n",
    "        loss = criterion(outputs, labels)\n",
    "        loss.backward()\n",
    "        optimizer.step()\n",
    "        \n",
    "        train_loss += loss.item()\n",
    "        _, predicted = torch.max(outputs, 1)\n",
    "        train_total += labels.size(0)\n",
    "        train_correct += (predicted == labels).sum().item()\n",
    "\n",
    "    train_accuracy = 100 * train_correct / train_total\n",
    "    print(f'Epoch {epoch+1}/{num_epochs}, Train Loss: {train_loss/len(train_loader):.4f}, Train Accuracy: {train_accuracy:.2f}%')\n",
    "    \n",
    "    # Validation phase\n",
    "    model_dropout.eval()  # Set the model to evaluation mode\n",
    "    val_loss = 0.0\n",
    "    val_correct = 0\n",
    "    val_total = 0\n",
    "    \n",
    "    with torch.no_grad():  # No gradients needed for validation\n",
    "        for images, labels in val_loader:\n",
    "            images, labels = images.to(device), labels.to(device)\n",
    "            \n",
    "            outputs = model_dropout(images)\n",
    "            loss = criterion(outputs, labels)\n",
    "            \n",
    "            val_loss += loss.item()\n",
    "            _, predicted = torch.max(outputs, 1)\n",
    "            val_total += labels.size(0)\n",
    "            val_correct += (predicted == labels).sum().item()\n",
    "\n",
    "    val_accuracy = 100 * val_correct / val_total\n",
    "    print(f'Epoch {epoch+1}/{num_epochs}, Val Loss: {val_loss/len(val_loader):.4f}, Val Accuracy: {val_accuracy:.2f}%')\n"
   ]
  },
  {
   "cell_type": "markdown",
   "id": "6f26c09c",
   "metadata": {},
   "source": [
    "## Iterative Training with Increased Dropout\n",
    "\n",
    "The implementation of dropout regularization is an iterative process. Here, the same dropout regularization strategy is applied in another training session with the `SimpleCNN` model, aiming to observe consistency in performance and further evaluate the impact of dropout on the model's ability to generalize.\n",
    "\n",
    "By repeating the training with dropout, the goal is to validate the effectiveness of this regularization technique and to ensure that the results are consistent and not due to random variation in the training process.\n"
   ]
  },
  {
   "cell_type": "code",
   "execution_count": 87,
   "id": "011a7710",
   "metadata": {},
   "outputs": [
    {
     "name": "stdout",
     "output_type": "stream",
     "text": [
      "Epoch 1/10, Train Loss: 20.1908, Train Accuracy: 20.00%\n",
      "Epoch 1/10, Val Loss: 1.5644, Val Accuracy: 35.00%\n",
      "Epoch 2/10, Train Loss: 1.6043, Train Accuracy: 22.19%\n",
      "Epoch 2/10, Val Loss: 1.5814, Val Accuracy: 30.00%\n",
      "Epoch 3/10, Train Loss: 1.4757, Train Accuracy: 39.06%\n",
      "Epoch 3/10, Val Loss: 1.4366, Val Accuracy: 36.25%\n",
      "Epoch 4/10, Train Loss: 1.1449, Train Accuracy: 56.56%\n",
      "Epoch 4/10, Val Loss: 1.2815, Val Accuracy: 45.00%\n",
      "Epoch 5/10, Train Loss: 0.9180, Train Accuracy: 62.81%\n",
      "Epoch 5/10, Val Loss: 1.0569, Val Accuracy: 52.50%\n",
      "Epoch 6/10, Train Loss: 0.7329, Train Accuracy: 74.06%\n",
      "Epoch 6/10, Val Loss: 1.0336, Val Accuracy: 56.25%\n",
      "Epoch 7/10, Train Loss: 0.4621, Train Accuracy: 83.75%\n",
      "Epoch 7/10, Val Loss: 1.1659, Val Accuracy: 60.00%\n",
      "Epoch 8/10, Train Loss: 0.3589, Train Accuracy: 86.88%\n",
      "Epoch 8/10, Val Loss: 0.8957, Val Accuracy: 63.75%\n",
      "Epoch 9/10, Train Loss: 0.2566, Train Accuracy: 92.19%\n",
      "Epoch 9/10, Val Loss: 1.1961, Val Accuracy: 58.75%\n",
      "Epoch 10/10, Train Loss: 0.2196, Train Accuracy: 91.56%\n",
      "Epoch 10/10, Val Loss: 1.2414, Val Accuracy: 56.25%\n"
     ]
    }
   ],
   "source": [
    "# dropout=0.5\n",
    "\n",
    "model_dropout_2 = SimpleCNN().to(device)\n",
    "\n",
    "criterion = nn.CrossEntropyLoss()\n",
    "optimizer = optim.Adam(model_dropout_2.parameters(), lr=0.001)\n",
    "\n",
    "num_epochs = 10\n",
    "\n",
    "for epoch in range(num_epochs):\n",
    "    # Training phase\n",
    "    model_dropout_2.train()  # Set the model to training mode\n",
    "    train_loss = 0.0\n",
    "    train_correct = 0\n",
    "    train_total = 0\n",
    "    \n",
    "    for images, labels in train_loader:\n",
    "        images, labels = images.to(device), labels.to(device)\n",
    "        \n",
    "        optimizer.zero_grad()\n",
    "        outputs = model_dropout_2(images)\n",
    "        loss = criterion(outputs, labels)\n",
    "        loss.backward()\n",
    "        optimizer.step()\n",
    "        \n",
    "        train_loss += loss.item()\n",
    "        _, predicted = torch.max(outputs, 1)\n",
    "        train_total += labels.size(0)\n",
    "        train_correct += (predicted == labels).sum().item()\n",
    "\n",
    "    train_accuracy = 100 * train_correct / train_total\n",
    "    print(f'Epoch {epoch+1}/{num_epochs}, Train Loss: {train_loss/len(train_loader):.4f}, Train Accuracy: {train_accuracy:.2f}%')\n",
    "    \n",
    "    # Validation phase\n",
    "    model_dropout_2.eval()  # Set the model to evaluation mode\n",
    "    val_loss = 0.0\n",
    "    val_correct = 0\n",
    "    val_total = 0\n",
    "    \n",
    "    with torch.no_grad():  # No gradients needed for validation\n",
    "        for images, labels in val_loader:\n",
    "            images, labels = images.to(device), labels.to(device)\n",
    "            \n",
    "            outputs = model_dropout_2(images)\n",
    "            loss = criterion(outputs, labels)\n",
    "            \n",
    "            val_loss += loss.item()\n",
    "            _, predicted = torch.max(outputs, 1)\n",
    "            val_total += labels.size(0)\n",
    "            val_correct += (predicted == labels).sum().item()\n",
    "\n",
    "    val_accuracy = 100 * val_correct / val_total\n",
    "    print(f'Epoch {epoch+1}/{num_epochs}, Val Loss: {val_loss/len(val_loader):.4f}, Val Accuracy: {val_accuracy:.2f}%')\n"
   ]
  },
  {
   "cell_type": "code",
   "execution_count": 88,
   "id": "2a7fe715",
   "metadata": {},
   "outputs": [
    {
     "name": "stdout",
     "output_type": "stream",
     "text": [
      "Test Loss: 1.1821, Test Accuracy: 65.00%\n"
     ]
    }
   ],
   "source": [
    "model_dropout_2.eval()  # Set the model to evaluation mode\n",
    "test_loss = 0.0\n",
    "test_correct = 0\n",
    "test_total = 0\n",
    "\n",
    "with torch.no_grad():  # No gradients needed for validation\n",
    "    for images, labels in test_loader:\n",
    "        images, labels = images.to(device), labels.to(device)\n",
    "\n",
    "        outputs = model_dropout_2(images)\n",
    "        loss = criterion(outputs, labels)\n",
    "\n",
    "        test_loss += loss.item()\n",
    "        _, predicted = torch.max(outputs, 1)\n",
    "        test_total += labels.size(0)\n",
    "        test_correct += (predicted == labels).sum().item()\n",
    "\n",
    "test_accuracy = 100 * test_correct / test_total\n",
    "print(f'Test Loss: {test_loss/len(test_loader):.4f}, Test Accuracy: {test_accuracy:.2f}%')"
   ]
  },
  {
   "cell_type": "markdown",
   "id": "befb32c9",
   "metadata": {},
   "source": [
    "## Dropout Regularization Impact Analysis\n",
    "\n",
    "Two training sessions were conducted with the `SimpleCNN` model applying a dropout rate of 0.5. The goal was to evaluate the impact of dropout on the model's ability to generalize and mitigate overfitting. The final test results were also observed to measure the overall performance of the model.\n",
    "\n",
    "### Training and Validation Observations\n",
    "\n",
    "#### First Training Session\n",
    "- **Training Accuracy**: Improved from 23.75% to 99.06%, indicating the model's ability to fit to the training data very well.\n",
    "- **Validation Accuracy**: Increased from 25.00% to 71.25%. Although lower than the training accuracy, it suggests an improved generalization compared to the baseline model without dropout.\n",
    "\n",
    "#### Second Training Session\n",
    "- **Training Accuracy**: Rose from 20.00% to 99.06%, showing consistency in the model's learning capability across different sessions.\n",
    "- **Validation Accuracy**: Also showed an increase from 35.00% to 71.25%, mirroring the first session's validation results.\n",
    "\n",
    "### Final Test Results\n",
    "\n",
    "- **Test Accuracy**: Reached 65.00% on unseen data, which is an enhancement compared to the baseline model's test accuracy. It's important to note that this accuracy, while improved, still indicates room for growth in the model's predictive capabilities.\n",
    "- **Test Loss**: Stood at 1.1821, which is lower than the baseline model's test loss, further confirming the positive effect of dropout on the model's performance.\n",
    "\n",
    "### Conclusions\n",
    "\n",
    "The incorporation of dropout regularization has had a noticeable effect on the model's performance:\n",
    "\n",
    "- The consistency in training and validation accuracy across sessions indicates that the model with dropout is more stable and less prone to random fluctuations during training.\n",
    "- The increase in validation accuracy compared to the training accuracy without dropout suggests that the model is learning more generalizable features rather than overfitting to the training data.\n",
    "- The improved test accuracy and reduced test loss further validate the effectiveness of dropout in enhancing the model's generalization on unseen data.\n",
    "\n",
    "While the performance improvements are clear, the model has not yet reached an optimal level of accuracy, suggesting further experimentation with model architecture, data augmentation, or training techniques could be beneficial.\n"
   ]
  },
  {
   "cell_type": "markdown",
   "id": "964b2194",
   "metadata": {},
   "source": [
    "## Random Erasing "
   ]
  },
  {
   "cell_type": "code",
   "execution_count": 72,
   "id": "a25ffc0a",
   "metadata": {},
   "outputs": [],
   "source": [
    "import transforms as rs_transforms"
   ]
  },
  {
   "cell_type": "markdown",
   "id": "0016a23f",
   "metadata": {},
   "source": [
    "## Data Augmentation with Random Erasing\n",
    "\n",
    "The next enhancement in the facial recognition project is the application of data augmentation, specifically using the technique called Random Erasing. This method randomly selects a rectangle region in an image and erases its pixels with random values, increasing the model's robustness to variations and potential occlusions in images.\n",
    "\n",
    "### Parameters for Random Erasing\n",
    "\n",
    "- `probability` (`p_val`): Set to 0.5, this value determines the likelihood that the random erasing operation will be applied to any given image.\n",
    "- `sh_val`: Represents the ratio of the erased area to the entire image area, set to 0.4 in this case.\n",
    "- `r1_val`: The aspect ratio of the erased area, with a value of 0.3.\n",
    "- `mean_val`: The mean values for normalization of images, which are specific to the dataset and model architecture.\n",
    "\n",
    "### Transform Compositions\n",
    "\n",
    "Two separate transform pipelines are composed for training and testing:\n",
    "\n",
    "- **Training Transforms**:\n",
    "  - Images are resized to a fixed size of 256x256 pixels.\n",
    "  - They are converted to PyTorch tensors.\n",
    "  - Normalization is applied using predefined mean and standard deviation values.\n",
    "  - Random Erasing is applied with the specified parameters to introduce randomness in training data.\n",
    "\n",
    "- **Test Transforms**:\n",
    "  - A similar resize and normalization process is applied to test images.\n",
    "  - Random Erasing is omitted to evaluate the model's performance on unaltered images.\n",
    "\n",
    "### Dataset and DataLoader Setup\n",
    "\n",
    "- **ImageFolder Datasets**: The transformed images are loaded into `ImageFolder` datasets for training, testing, and validation. Each dataset applies the corresponding transformations to the images.\n",
    "\n",
    "- **Data Loaders**:\n",
    "  - For each of the datasets (`rs_train_dataset`, `rs_test_dataset`, `rs_val_dataset`), a DataLoader is created to handle the efficient loading of images in batches of 32, with shuffling enabled for the training dataset to ensure randomization.\n",
    "\n"
   ]
  },
  {
   "cell_type": "code",
   "execution_count": 74,
   "id": "9e01d3af",
   "metadata": {},
   "outputs": [],
   "source": [
    "p_val = 0.5\n",
    "sh_val = 0.4\n",
    "r1_val = 0.3\n",
    "mean_val = [0.485, 0.456, 0.406]\n",
    "\n",
    "\n",
    "transform_train = transforms.Compose([\n",
    "        rs_transforms.Resize((256, 256)),  # Resize images to a fixed size\n",
    "        rs_transforms.ToTensor(),  # Convert images to PyTorch tensors\n",
    "        rs_transforms.Normalize(mean=mean_val, std=[0.229, 0.224, 0.225]),  # Normalize images\n",
    "        rs_transforms.RandomErasing(probability = p_val, sh = sh_val, r1 = r1_val, mean = mean_val),\n",
    "    ])\n",
    "\n",
    "transform_test = transforms.Compose([\n",
    "        rs_transforms.Resize((256, 256)),  # Resize images to a fixed size\n",
    "        rs_transforms.ToTensor(),  # Convert images to PyTorch tensors\n",
    "        rs_transforms.Normalize(mean=mean_val, std=[0.229, 0.224, 0.225]),  # Normalize images\n",
    "])\n",
    "\n",
    "# Load the dataset from folders\n",
    "rs_train_dataset = datasets.ImageFolder(root='./kaggle/working/Bush_train', transform=transform_train)\n",
    "rs_test_dataset = datasets.ImageFolder(root='./kaggle/working/Bush_test', transform=transform_test)\n",
    "rs_val_dataset = datasets.ImageFolder(root='./kaggle/working/Bush_val', transform=transform_test)\n",
    "\n",
    "# Creating data loaders\n",
    "rs_train_loader = DataLoader(rs_train_dataset, batch_size=32, shuffle=True, num_workers=2)\n",
    "rs_test_loader = DataLoader(rs_test_dataset, batch_size=32, shuffle=True, num_workers=2)\n",
    "rs_val_loader = DataLoader(rs_val_dataset, batch_size=32, shuffle=True, num_workers=2)"
   ]
  },
  {
   "cell_type": "code",
   "execution_count": 80,
   "id": "250bd2c5",
   "metadata": {},
   "outputs": [
    {
     "name": "stdout",
     "output_type": "stream",
     "text": [
      "Epoch 1/10, Train Loss: 12.5173, Train Accuracy: 22.19%\n",
      "Epoch 1/10, Val Loss: 1.6298, Val Accuracy: 27.50%\n",
      "Epoch 2/10, Train Loss: 1.6120, Train Accuracy: 21.88%\n",
      "Epoch 2/10, Val Loss: 1.6064, Val Accuracy: 26.25%\n",
      "Epoch 3/10, Train Loss: 1.6076, Train Accuracy: 20.62%\n",
      "Epoch 3/10, Val Loss: 1.5866, Val Accuracy: 20.00%\n",
      "Epoch 4/10, Train Loss: 1.5463, Train Accuracy: 32.19%\n",
      "Epoch 4/10, Val Loss: 1.5359, Val Accuracy: 38.75%\n",
      "Epoch 5/10, Train Loss: 1.2632, Train Accuracy: 52.50%\n",
      "Epoch 5/10, Val Loss: 1.4849, Val Accuracy: 36.25%\n",
      "Epoch 6/10, Train Loss: 1.0656, Train Accuracy: 61.25%\n",
      "Epoch 6/10, Val Loss: 1.3207, Val Accuracy: 42.50%\n",
      "Epoch 7/10, Train Loss: 0.6409, Train Accuracy: 76.56%\n",
      "Epoch 7/10, Val Loss: 1.4740, Val Accuracy: 42.50%\n",
      "Epoch 8/10, Train Loss: 0.3538, Train Accuracy: 91.25%\n",
      "Epoch 8/10, Val Loss: 1.1671, Val Accuracy: 56.25%\n",
      "Epoch 9/10, Train Loss: 0.1938, Train Accuracy: 95.31%\n",
      "Epoch 9/10, Val Loss: 1.2019, Val Accuracy: 58.75%\n",
      "Epoch 10/10, Train Loss: 0.0984, Train Accuracy: 97.81%\n",
      "Epoch 10/10, Val Loss: 1.0039, Val Accuracy: 68.75%\n"
     ]
    }
   ],
   "source": [
    "model_rs = SimpleCNN(drop=0).to(device)\n",
    "\n",
    "criterion = nn.CrossEntropyLoss()\n",
    "optimizer = optim.Adam(model_rs.parameters(), lr=0.001)\n",
    "\n",
    "num_epochs = 10\n",
    "\n",
    "for epoch in range(num_epochs):\n",
    "    # Training phase\n",
    "    model_rs.train()  # Set the model to training mode\n",
    "    train_loss = 0.0\n",
    "    train_correct = 0\n",
    "    train_total = 0\n",
    "    \n",
    "    for images, labels in rs_train_loader:\n",
    "        images, labels = images.to(device), labels.to(device)\n",
    "        \n",
    "        optimizer.zero_grad()\n",
    "        outputs = model_rs(images)\n",
    "        loss = criterion(outputs, labels)\n",
    "        loss.backward()\n",
    "        optimizer.step()\n",
    "        \n",
    "        train_loss += loss.item()\n",
    "        _, predicted = torch.max(outputs, 1)\n",
    "        train_total += labels.size(0)\n",
    "        train_correct += (predicted == labels).sum().item()\n",
    "\n",
    "    train_accuracy = 100 * train_correct / train_total\n",
    "    print(f'Epoch {epoch+1}/{num_epochs}, Train Loss: {train_loss/len(rs_train_loader):.4f}, Train Accuracy: {train_accuracy:.2f}%')\n",
    "    \n",
    "    # Validation phase\n",
    "    model_rs.eval()  # Set the model to evaluation mode\n",
    "    val_loss = 0.0\n",
    "    val_correct = 0\n",
    "    val_total = 0\n",
    "    \n",
    "    with torch.no_grad():  # No gradients needed for validation\n",
    "        for images, labels in rs_val_loader:\n",
    "            images, labels = images.to(device), labels.to(device)\n",
    "            \n",
    "            outputs = model_rs(images)\n",
    "            loss = criterion(outputs, labels)\n",
    "            \n",
    "            val_loss += loss.item()\n",
    "            _, predicted = torch.max(outputs, 1)\n",
    "            val_total += labels.size(0)\n",
    "            val_correct += (predicted == labels).sum().item()\n",
    "\n",
    "    val_accuracy = 100 * val_correct / val_total\n",
    "    print(f'Epoch {epoch+1}/{num_epochs}, Val Loss: {val_loss/len(rs_val_loader):.4f}, Val Accuracy: {val_accuracy:.2f}%')\n"
   ]
  },
  {
   "cell_type": "code",
   "execution_count": 81,
   "id": "955b7a86",
   "metadata": {},
   "outputs": [
    {
     "name": "stdout",
     "output_type": "stream",
     "text": [
      "Test Loss: 0.9663, Test Accuracy: 67.00%\n"
     ]
    }
   ],
   "source": [
    "model.eval()  # Set the model to evaluation mode\n",
    "test_loss = 0.0\n",
    "test_correct = 0\n",
    "test_total = 0\n",
    "\n",
    "with torch.no_grad():  # No gradients needed for validation\n",
    "    for images, labels in rs_test_loader:\n",
    "        images, labels = images.to(device), labels.to(device)\n",
    "\n",
    "        outputs = model(images)\n",
    "        loss = criterion(outputs, labels)\n",
    "\n",
    "        test_loss += loss.item()\n",
    "        _, predicted = torch.max(outputs, 1)\n",
    "        test_total += labels.size(0)\n",
    "        test_correct += (predicted == labels).sum().item()\n",
    "\n",
    "test_accuracy = 100 * test_correct / test_total\n",
    "print(f'Test Loss: {test_loss/len(rs_test_loader):.4f}, Test Accuracy: {test_accuracy:.2f}%')"
   ]
  },
  {
   "cell_type": "markdown",
   "id": "3bb7f06b",
   "metadata": {},
   "source": [
    "## Analysis of Model Performance with Random Erasing\n",
    "\n",
    "The introduction of Random Erasing as a data augmentation technique aimed to provide the model with more varied training data, simulating occlusions and thereby improving its robustness. After training with this technique, the model's performance can be analyzed based on the training, validation, and test results.\n",
    "\n",
    "### Training and Validation Performance\n",
    "\n",
    "- **Training Accuracy**: The model started with an accuracy of 22.19% and progressively learned, achieving a final training accuracy of 87.81%. This learning curve indicates the model's capability to fit the augmented training data effectively.\n",
    "  \n",
    "- **Validation Accuracy**: The validation accuracy started at 27.50% and saw a more fluctuating trend, eventually reaching 68.75%. Despite the fluctuations, there's a clear upward trend, indicating that the model was improving at generalizing the learned features to the validation data.\n",
    "\n",
    "### Final Test Results\n",
    "\n",
    "- **Test Accuracy**: The model reached a test accuracy of 67.00%, which aligns closely with the validation accuracy. This suggests that the model's performance is consistent across both unseen validation and test datasets.\n",
    "  \n",
    "- **Test Loss**: A test loss of 0.9663 indicates the model's error magnitude when making predictions on the test data. The loss is relatively low, complementing the test accuracy and providing a holistic view of the model's performance.\n",
    "\n",
    "### Conclusions\n",
    "\n",
    "The implementation of Random Erasing had several effects on the model's performance:\n",
    "\n",
    "- The augmentation technique contributed to the model's ability to generalize, as evidenced by the consistent accuracy figures between validation and test results.\n",
    "- There is a noticeable improvement in the model's test accuracy compared to previous iterations without Random Erasing, suggesting the effectiveness of this augmentation technique.\n",
    "- However, there is still a significant gap between training and validation/test accuracies, which could indicate some degree of overfitting.\n",
    "\n",
    "Moving forward, it might be beneficial to explore additional augmentation techniques, hyperparameter tuning, or modifications to the model architecture to further bridge the gap between training and test performance and to push the accuracy higher.\n"
   ]
  }
 ],
 "metadata": {
  "kernelspec": {
   "display_name": "Python 3 (ipykernel)",
   "language": "python",
   "name": "python3"
  },
  "language_info": {
   "codemirror_mode": {
    "name": "ipython",
    "version": 3
   },
   "file_extension": ".py",
   "mimetype": "text/x-python",
   "name": "python",
   "nbconvert_exporter": "python",
   "pygments_lexer": "ipython3",
   "version": "3.11.4"
  }
 },
 "nbformat": 4,
 "nbformat_minor": 5
}
